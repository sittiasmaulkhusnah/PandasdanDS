{
 "cells": [
  {
   "cell_type": "code",
   "execution_count": null,
   "id": "dcb8f2a2",
   "metadata": {
    "lines_to_next_cell": 2
   },
   "outputs": [],
   "source": [
    "# Import Library\n",
    "import pandas as pd\n",
    "import numpy as np\n",
    "import re      #untuk regex saat filter string"
   ]
  },
  {
   "cell_type": "code",
   "execution_count": null,
   "id": "ef7ae425",
   "metadata": {},
   "outputs": [],
   "source": [
    "#1. menampilkan array 1 dimensi\n",
    "ds=pd.Series([2,4,6,8,10])\n",
    "print(ds)"
   ]
  },
  {
   "cell_type": "code",
   "execution_count": null,
   "id": "d69094c8",
   "metadata": {},
   "outputs": [],
   "source": [
    "#2.\n",
    "data=pd.Series([\"a\",\"b\",\"c\"])\n",
    "np1=np.array([\"x\",\"y\",\"z\"])\n",
    "data_np=pd.Series(np1)"
   ]
  },
  {
   "cell_type": "code",
   "execution_count": null,
   "id": "19e9e3b8",
   "metadata": {},
   "outputs": [],
   "source": [
    "print(data)\n",
    "print(data_np)"
   ]
  },
  {
   "cell_type": "code",
   "execution_count": null,
   "id": "b700d686",
   "metadata": {},
   "outputs": [],
   "source": [
    "# mengatur indeks pada numpy array data-np di atas\n",
    "data_np=pd.Series(np1, index=[2,3,4])\n",
    "print(data_np)"
   ]
  },
  {
   "cell_type": "code",
   "execution_count": null,
   "id": "95d44e07",
   "metadata": {},
   "outputs": [],
   "source": [
    "#3. operasi\n",
    "ds1=pd.Series([2,4,6,8,10])\n",
    "ds2=pd.Series([1,3,5,7,9])\n",
    "dsa=ds1+ds2 \n",
    "dsb=ds1-ds2\n",
    "dsc=ds1*ds2\n",
    "dsd=ds1/ds2\n",
    "print(dsa)\n",
    "print(dsb)\n",
    "print(dsc)\n",
    "print(dsd)"
   ]
  },
  {
   "cell_type": "code",
   "execution_count": null,
   "id": "a775e2f5",
   "metadata": {},
   "outputs": [],
   "source": [
    "#4. convert pandas modul series ke python list\n",
    "ds=pd.Series([2,4,6,8,10])\n",
    "print(\"Pandas Series Type\")\n",
    "print(ds)\n",
    "print(type(ds))"
   ]
  },
  {
   "cell_type": "code",
   "execution_count": null,
   "id": "22fb0db8",
   "metadata": {},
   "outputs": [],
   "source": [
    "print(\"Convert Pandas Series ke Python list\")\n",
    "print(ds.tolist())\n",
    "print(type(ds.tolist()))"
   ]
  },
  {
   "cell_type": "code",
   "execution_count": null,
   "id": "8dfdb1da",
   "metadata": {},
   "outputs": [],
   "source": [
    "#5. convert Numpy array ke Pandas Series\n",
    "np_array=np.array([0, 20, 30, 40, 50])\n",
    "print(\"NumPy array:\")\n",
    "print(np_array)"
   ]
  },
  {
   "cell_type": "code",
   "execution_count": null,
   "id": "0716e77e",
   "metadata": {},
   "outputs": [],
   "source": [
    "new_np=pd.Series(np_array)\n",
    "print(\"konversi Pandas series\")\n",
    "print(new_np)"
   ]
  },
  {
   "cell_type": "code",
   "execution_count": null,
   "id": "045d0e6a",
   "metadata": {},
   "outputs": [],
   "source": [
    "#6. generate angka random\n",
    "num_state=np.random.RandomState(100)\n",
    "num_series=pd.Series(num_state.normal(10,4,20))"
   ]
  },
  {
   "cell_type": "code",
   "execution_count": null,
   "id": "da48d6fa",
   "metadata": {},
   "outputs": [],
   "source": [
    "print(num_series)\n",
    "print(num_state)"
   ]
  },
  {
   "cell_type": "code",
   "execution_count": null,
   "id": "8c87dbec",
   "metadata": {},
   "outputs": [],
   "source": [
    "# Load Data\n",
    "#7.1. load data dari folder yang sama dengan coding\n",
    "df=pd.read_csv(\"penjualan.csv\")\n",
    "print(df.head())"
   ]
  },
  {
   "cell_type": "code",
   "execution_count": null,
   "id": "2e04da4b",
   "metadata": {},
   "outputs": [],
   "source": [
    "#8. menampilkan tabel penjualan februari\n",
    "df=pd.read_csv(\"penjualan.csv\")"
   ]
  },
  {
   "cell_type": "code",
   "execution_count": null,
   "id": "e1cff6a2",
   "metadata": {},
   "outputs": [],
   "source": [
    "print(df[\"feb\"].head())"
   ]
  },
  {
   "cell_type": "code",
   "execution_count": null,
   "id": "f017c5f0",
   "metadata": {},
   "outputs": [],
   "source": [
    "#9. menampilkan lebih dari satu kolom (series), gunakan double bracket [[]]\n",
    "df=pd.read_csv(\"penjualan.csv\")\n",
    "print(df[[\"feb\", \"mar\"]].head(3))"
   ]
  },
  {
   "cell_type": "code",
   "execution_count": null,
   "id": "1cacea6c",
   "metadata": {},
   "outputs": [],
   "source": [
    "#10. tambah kolom teks berisi angka\n",
    "#10.1. \n",
    "penjual=[\"penjual no\"+str(i)for i in range(1,11)]\n",
    "print(penjual)"
   ]
  },
  {
   "cell_type": "code",
   "execution_count": null,
   "id": "04a58934",
   "metadata": {},
   "outputs": [],
   "source": [
    "#10.2.\n",
    "df[\"urutan\"]=penjual\n",
    "print(df)"
   ]
  },
  {
   "cell_type": "code",
   "execution_count": null,
   "id": "4582139f",
   "metadata": {},
   "outputs": [],
   "source": [
    "#11. ekstraksi angka dari teks \n",
    "df[\"no\"]=df[\"urutan\"].str.extract(r\"(\\d+)\").astype(\"int64\")\n",
    "print(df)"
   ]
  },
  {
   "cell_type": "code",
   "execution_count": null,
   "id": "1d106dce",
   "metadata": {},
   "outputs": [],
   "source": [
    "# memilih data berdasarkan bari dan kolom\n",
    "#12. menampilkan hanya kolom tertentu\n",
    "#12.1. menampilkan baris dengan indeks berlabel 0\n",
    "print(df.loc[0])\n",
    "print(df.iloc[0])\n",
    "print(df[:1])"
   ]
  },
  {
   "cell_type": "code",
   "execution_count": null,
   "id": "cbb11ac7",
   "metadata": {},
   "outputs": [],
   "source": [
    "#12.2. menampilkan baris indeks berlabel 0 dan kolom berlaber jan\n",
    "print(df.loc[0,\"jan\"])\n",
    "print(df.iloc[0,1])"
   ]
  },
  {
   "cell_type": "code",
   "execution_count": null,
   "id": "eec52291",
   "metadata": {},
   "outputs": [],
   "source": [
    "print(df[[\"jan\"]][:1])"
   ]
  },
  {
   "cell_type": "code",
   "execution_count": null,
   "id": "b3db6e0d",
   "metadata": {},
   "outputs": [],
   "source": [
    "#12.3. menampilkan baris berlabel 0 sampai 2 dan kolom nama, jan, mar\n",
    "print(df.loc[0:2, [\"nama\", \"jan\", \"mar\"]])"
   ]
  },
  {
   "cell_type": "code",
   "execution_count": null,
   "id": "17b16c9b",
   "metadata": {},
   "outputs": [],
   "source": [
    "#12.3. menampilkan baris 0-3, kolom 0 (nama), 1(jan), 3 (mar)\n",
    "print(df.iloc[0:3, [0,1,3]])"
   ]
  },
  {
   "cell_type": "code",
   "execution_count": null,
   "id": "e2478623",
   "metadata": {},
   "outputs": [],
   "source": [
    "#12.4 menampilkan semua baris pada kolom **nama** dan **apr**\n",
    "print(df.loc[:, [\"nama\", \"apr\"]])\n",
    "print(df.iloc[:, [0,4]])\n",
    "print(df[[\"nama\", \"apr\"]])"
   ]
  },
  {
   "cell_type": "code",
   "execution_count": null,
   "id": "5387c5b0",
   "metadata": {},
   "outputs": [],
   "source": [
    "#12.5. menampilkan semua baris pada kolom nama sampai feb\n",
    "print(df.loc[:, [\"nama\", \"feb\"]])\n",
    "print(df.iloc[:, :3])\n",
    "print(df[[\"nama\", \"jan\", \"feb\"]])"
   ]
  },
  {
   "cell_type": "code",
   "execution_count": null,
   "id": "ba566dd4",
   "metadata": {},
   "outputs": [],
   "source": [
    "# menampilkan semua baris dan semua kolom\n",
    "print(df.loc[:, :])"
   ]
  },
  {
   "cell_type": "code",
   "execution_count": null,
   "id": "84bb7785",
   "metadata": {},
   "outputs": [],
   "source": [
    "# Memfilter Data\n",
    "#13. memilih berdasarkan satu kondisi\n",
    "import re"
   ]
  },
  {
   "cell_type": "code",
   "execution_count": null,
   "id": "cbba1a51",
   "metadata": {},
   "outputs": [],
   "source": [
    "#13.1. memilih angka \n",
    "# sama dengan\n",
    "print(df[df[\"jan\"]==200])\n",
    "df[df.jan.eq(200)]"
   ]
  },
  {
   "cell_type": "code",
   "execution_count": null,
   "id": "ad90070a",
   "metadata": {},
   "outputs": [],
   "source": [
    "# tidak sama dengan\n",
    "print(df[df[\"jan\"]!=200])\n",
    "df[df.jan.ne(200)]\n",
    "print(df[~(df[\"jan\"]==20)])"
   ]
  },
  {
   "cell_type": "code",
   "execution_count": null,
   "id": "33405ec8",
   "metadata": {},
   "outputs": [],
   "source": [
    "# angka lebih dari\n",
    "print(df[df[\"jan\"]>200])\n",
    "df[df.jan.gt(200)]"
   ]
  },
  {
   "cell_type": "code",
   "execution_count": null,
   "id": "fdcddc76",
   "metadata": {},
   "outputs": [],
   "source": [
    "# lebih dari satu atau sama dengan\n",
    "print(df[df[\"jan\"]>=200])\n",
    "df[df.jan.ge(200)]"
   ]
  },
  {
   "cell_type": "code",
   "execution_count": null,
   "id": "37ac37bf",
   "metadata": {},
   "outputs": [],
   "source": [
    "# kurang dari\n",
    "print(df[df[\"jan\"]<200])\n",
    "df[df.jan.lt(200)]"
   ]
  },
  {
   "cell_type": "code",
   "execution_count": null,
   "id": "e3d26be0",
   "metadata": {},
   "outputs": [],
   "source": [
    "# kurang dari atau sama dengan\n",
    "print(df[df[\"jan\"]<=200])\n",
    "df[df.jan.le(200)]"
   ]
  },
  {
   "cell_type": "code",
   "execution_count": null,
   "id": "811f5f24",
   "metadata": {},
   "outputs": [],
   "source": [
    "#13.2. memilih teks\n",
    "print(df[df[\"nama\"].str.contains(\"andi\")])\n",
    "print(df[df[\"nama\"].str.contains(\"jul\")])"
   ]
  },
  {
   "cell_type": "code",
   "execution_count": null,
   "id": "2cff8fbc",
   "metadata": {},
   "outputs": [],
   "source": [
    "# abaikan huruf kecil\n",
    "df[df[\"nama\"].str.contains(\"in\")]"
   ]
  },
  {
   "cell_type": "code",
   "execution_count": null,
   "id": "19442f38",
   "metadata": {},
   "outputs": [],
   "source": [
    "print(df[df[\"nama\"].str.contains(\"in\",flags=re.IGNORECASE)])"
   ]
  },
  {
   "cell_type": "code",
   "execution_count": null,
   "id": "e6069594",
   "metadata": {},
   "outputs": [],
   "source": [
    "# memilih data yang berada di list atau dataframe lain\n",
    "# menampilka kolom februari pada file\n",
    "feb_penjualan=[130,220]\n",
    "print(df[df[\"feb\"].isin(feb_penjualan)])"
   ]
  },
  {
   "cell_type": "code",
   "execution_count": null,
   "id": "4324e21a",
   "metadata": {},
   "outputs": [],
   "source": [
    "#14. membuat kategori tinggi dan rendah\n",
    "d={\"tinggi\":[320,300],\"rendah\":[95,100]}\n",
    "df1=pd.DataFrame(data=d)\n",
    "print(df1)"
   ]
  },
  {
   "cell_type": "code",
   "execution_count": null,
   "id": "f273ceb2",
   "metadata": {},
   "outputs": [],
   "source": [
    "print(df[df[\"jan\"].isin(df1[\"tinggi\"])])\n",
    "print(df[df[\"jan\"].isin(df1[\"rendah\"])])"
   ]
  },
  {
   "cell_type": "code",
   "execution_count": null,
   "id": "ddfce0fc",
   "metadata": {},
   "outputs": [],
   "source": [
    "#memilih lebih dari satu kondisi\n",
    "# memilih diantara dua rentang nilai\n",
    "print(df[(df[\"jan\"]>100)&(df[\"jan\"]<300)])"
   ]
  },
  {
   "cell_type": "code",
   "execution_count": null,
   "id": "ea00d194",
   "metadata": {},
   "outputs": [],
   "source": [
    "print(df[(df[\"nama\"].str.contains(\"on\",flags=re.IGNORECASE))|(df[\"jan\"]>200)])\n",
    "print(df.describe())"
   ]
  },
  {
   "cell_type": "code",
   "execution_count": null,
   "id": "5d21140b",
   "metadata": {
    "lines_to_next_cell": 1
   },
   "outputs": [],
   "source": [
    "# Metode metode pandas\n",
    "#15. metode apply untuk menjalankan fungsi pada setiap baris pada data series\n",
    "data=[1,2,3,5,8,13,21]\n",
    "d_int=pd.Series(data)\n",
    "def kecilbesar(num):\n",
    "    if num <3:\n",
    "        return \"kecil\"    \n",
    "    elif num >=3 and num <13:\n",
    "        return \"sedang\"\n",
    "    else:\n",
    "        return \"besar\""
   ]
  },
  {
   "cell_type": "code",
   "execution_count": null,
   "id": "ca7b57bb",
   "metadata": {},
   "outputs": [],
   "source": [
    "print(d_int.apply(kecilbesar))"
   ]
  },
  {
   "cell_type": "code",
   "execution_count": null,
   "id": "7d77cbae",
   "metadata": {},
   "outputs": [],
   "source": [
    "# info DataFrame\n",
    "print(df.info())"
   ]
  },
  {
   "cell_type": "code",
   "execution_count": null,
   "id": "16fd532d",
   "metadata": {},
   "outputs": [],
   "source": []
  }
 ],
 "metadata": {
  "jupytext": {
   "cell_metadata_filter": "-all",
   "main_language": "python",
   "notebook_metadata_filter": "-all"
  },
  "language_info": {
   "name": "python"
  }
 },
 "nbformat": 4,
 "nbformat_minor": 5
}
