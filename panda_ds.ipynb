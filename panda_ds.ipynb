{
 "cells": [
  {
   "cell_type": "markdown",
   "id": "52121cd7",
   "metadata": {},
   "source": [
    "<div style=\"font-family: Times New Roman; font-size: 25px; border-radius : 10px; background-color:rgb(253, 247, 247); color:rgb(4, 46, 94); padding: 12px; line-height: 0.7;\">Import Library \n",
    "</div>\n"
   ]
  },
  {
   "cell_type": "code",
   "execution_count": 62,
   "id": "dcb8f2a2",
   "metadata": {
    "lines_to_next_cell": 2
   },
   "outputs": [],
   "source": [
    "import pandas as pd\n",
    "import numpy as np\n",
    "import re      #untuk regex saat filter string"
   ]
  },
  {
   "cell_type": "markdown",
   "id": "6df22fad",
   "metadata": {},
   "source": [
    "<div style=\"font-family: Times New Roman; font-size: 20px; border-radius : 10px; background-color:rgb(253, 247, 247); color:rgb(4, 46, 94); padding: 12px; line-height: 0.7;\">1. Menampilkan Array 1 Dimensi\n",
    "</div>"
   ]
  },
  {
   "cell_type": "code",
   "execution_count": 63,
   "id": "ef7ae425",
   "metadata": {},
   "outputs": [
    {
     "name": "stdout",
     "output_type": "stream",
     "text": [
      "0     2\n",
      "1     4\n",
      "2     6\n",
      "3     8\n",
      "4    10\n",
      "dtype: int64\n"
     ]
    }
   ],
   "source": [
    "#1. \n",
    "ds=pd.Series([2,4,6,8,10])\n",
    "print(ds)"
   ]
  },
  {
   "cell_type": "code",
   "execution_count": 64,
   "id": "d69094c8",
   "metadata": {},
   "outputs": [
    {
     "name": "stdout",
     "output_type": "stream",
     "text": [
      "0    a\n",
      "1    b\n",
      "2    c\n",
      "dtype: object\n",
      "0    x\n",
      "1    y\n",
      "2    z\n",
      "dtype: object\n"
     ]
    }
   ],
   "source": [
    "#2.\n",
    "data=pd.Series([\"a\",\"b\",\"c\"])\n",
    "np1=np.array([\"x\",\"y\",\"z\"])\n",
    "data_np=pd.Series(np1)\n",
    "\n",
    "print(data)\n",
    "print(data_np)"
   ]
  },
  {
   "cell_type": "code",
   "execution_count": 65,
   "id": "b700d686",
   "metadata": {},
   "outputs": [
    {
     "name": "stdout",
     "output_type": "stream",
     "text": [
      "2    x\n",
      "3    y\n",
      "4    z\n",
      "dtype: object\n"
     ]
    }
   ],
   "source": [
    "# mengatur indeks pada numpy array data-np di atas\n",
    "data_np=pd.Series(np1, index=[2,3,4])\n",
    "print(data_np)"
   ]
  },
  {
   "cell_type": "markdown",
   "id": "797d34ee",
   "metadata": {},
   "source": [
    "<div style=\"font-family: Times New Roman; font-size: 20px; border-radius : 10px; background-color:rgb(253, 247, 247); color:rgb(4, 46, 94); padding: 12px; line-height: 0.7;\">3. Operasi\n",
    "</div>"
   ]
  },
  {
   "cell_type": "code",
   "execution_count": 66,
   "id": "95d44e07",
   "metadata": {},
   "outputs": [
    {
     "name": "stdout",
     "output_type": "stream",
     "text": [
      "0     3\n",
      "1     7\n",
      "2    11\n",
      "3    15\n",
      "4    19\n",
      "dtype: int64\n",
      "0    1\n",
      "1    1\n",
      "2    1\n",
      "3    1\n",
      "4    1\n",
      "dtype: int64\n",
      "0     2\n",
      "1    12\n",
      "2    30\n",
      "3    56\n",
      "4    90\n",
      "dtype: int64\n",
      "0    2.000000\n",
      "1    1.333333\n",
      "2    1.200000\n",
      "3    1.142857\n",
      "4    1.111111\n",
      "dtype: float64\n"
     ]
    }
   ],
   "source": [
    "ds1=pd.Series([2,4,6,8,10])\n",
    "ds2=pd.Series([1,3,5,7,9])\n",
    "dsa=ds1+ds2 \n",
    "dsb=ds1-ds2\n",
    "dsc=ds1*ds2\n",
    "dsd=ds1/ds2\n",
    "print(dsa)\n",
    "print(dsb)\n",
    "print(dsc)\n",
    "print(dsd)"
   ]
  },
  {
   "cell_type": "markdown",
   "id": "b3b7b6f0",
   "metadata": {},
   "source": [
    "<div style=\"font-family: Times New Roman; font-size: 20px; border-radius : 10px; background-color:rgb(253, 247, 247); color:rgb(4, 46, 94); padding: 12px; line-height: 0.7;\">4. Convert Pandas Series ke Pyhton list\n",
    "</div>"
   ]
  },
  {
   "cell_type": "code",
   "execution_count": 67,
   "id": "a775e2f5",
   "metadata": {},
   "outputs": [
    {
     "name": "stdout",
     "output_type": "stream",
     "text": [
      "Pandas Series Type\n",
      "0     2\n",
      "1     4\n",
      "2     6\n",
      "3     8\n",
      "4    10\n",
      "dtype: int64\n",
      "<class 'pandas.core.series.Series'>\n"
     ]
    }
   ],
   "source": [
    "ds=pd.Series([2,4,6,8,10])\n",
    "print(\"Pandas Series Type\")\n",
    "print(ds)\n",
    "print(type(ds))"
   ]
  },
  {
   "cell_type": "code",
   "execution_count": 68,
   "id": "22fb0db8",
   "metadata": {},
   "outputs": [
    {
     "name": "stdout",
     "output_type": "stream",
     "text": [
      "Convert Pandas Series ke Python list\n",
      "[2, 4, 6, 8, 10]\n",
      "<class 'list'>\n"
     ]
    }
   ],
   "source": [
    "print(\"Convert Pandas Series ke Python list\")\n",
    "print(ds.tolist())\n",
    "print(type(ds.tolist()))"
   ]
  },
  {
   "cell_type": "markdown",
   "id": "f36b26b5",
   "metadata": {},
   "source": [
    "<div style=\"font-family: Times New Roman; font-size: 20px; border-radius : 10px; background-color:rgb(253, 247, 247); color:rgb(4, 46, 94); padding: 12px; line-height: 0.7;\">5. Convert NumPy Array ke Pandas Series\n",
    "</div>"
   ]
  },
  {
   "cell_type": "code",
   "execution_count": 69,
   "id": "8dfdb1da",
   "metadata": {},
   "outputs": [
    {
     "name": "stdout",
     "output_type": "stream",
     "text": [
      "NumPy array:\n",
      "[ 0 20 30 40 50]\n"
     ]
    }
   ],
   "source": [
    "np_array=np.array([0, 20, 30, 40, 50])\n",
    "print(\"NumPy array:\")\n",
    "print(np_array)"
   ]
  },
  {
   "cell_type": "code",
   "execution_count": 70,
   "id": "0716e77e",
   "metadata": {},
   "outputs": [
    {
     "name": "stdout",
     "output_type": "stream",
     "text": [
      "konversi Pandas series\n",
      "0     0\n",
      "1    20\n",
      "2    30\n",
      "3    40\n",
      "4    50\n",
      "dtype: int64\n"
     ]
    }
   ],
   "source": [
    "new_np=pd.Series(np_array)\n",
    "print(\"konversi Pandas series\")\n",
    "print(new_np)"
   ]
  },
  {
   "cell_type": "markdown",
   "id": "92dac8c1",
   "metadata": {},
   "source": [
    "<div style=\"font-family: Times New Roman; font-size: 20px; border-radius : 10px; background-color:rgb(253, 247, 247); color:rgb(4, 46, 94); padding: 12px; line-height: 0.7;\">6. Generate Angka Random\n",
    "</div>"
   ]
  },
  {
   "cell_type": "code",
   "execution_count": 71,
   "id": "045d0e6a",
   "metadata": {},
   "outputs": [
    {
     "name": "stdout",
     "output_type": "stream",
     "text": [
      "0      3.000938\n",
      "1     11.370722\n",
      "2     14.612143\n",
      "3      8.990256\n",
      "4     13.925283\n",
      "5     12.056875\n",
      "6     10.884719\n",
      "7      5.719827\n",
      "8      9.242017\n",
      "9     11.020006\n",
      "10     8.167892\n",
      "11    11.740654\n",
      "12     7.665620\n",
      "13    13.267388\n",
      "14    12.690883\n",
      "15     9.582355\n",
      "16     7.874878\n",
      "17    14.118931\n",
      "18     8.247458\n",
      "19     5.526727\n",
      "dtype: float64\n",
      "RandomState(MT19937)\n"
     ]
    }
   ],
   "source": [
    "num_state=np.random.RandomState(100)\n",
    "num_series=pd.Series(num_state.normal(10,4,20))\n",
    "\n",
    "print(num_series)\n",
    "print(num_state)"
   ]
  },
  {
   "cell_type": "markdown",
   "id": "871c3e8f",
   "metadata": {},
   "source": [
    "<div style=\"font-family: Times New Roman; font-size: 20px; border-radius : 10px; background-color:rgb(253, 247, 247); color:rgb(4, 46, 94); padding: 12px; line-height: 0.7;\">7. Load Data\n",
    "</div>"
   ]
  },
  {
   "cell_type": "code",
   "execution_count": 72,
   "id": "8c87dbec",
   "metadata": {},
   "outputs": [
    {
     "name": "stdout",
     "output_type": "stream",
     "text": [
      "      nama  jan  feb  mar  apr\n",
      "0     Andi  100  135   85   75\n",
      "1     Budi  200  240  185  160\n",
      "2  Chandra  300  315  285  190\n",
      "3     Dudi  250  270  230  200\n",
      "4      Eko  150  195  110  100\n"
     ]
    }
   ],
   "source": [
    "#7.1. load data dari folder yang sama dengan coding\n",
    "df=pd.read_csv(\"penjualan.csv\")\n",
    "print(df.head())"
   ]
  },
  {
   "cell_type": "markdown",
   "id": "4254db34",
   "metadata": {},
   "source": [
    "<div style=\"font-family: Times New Roman; font-size: 20px; border-radius : 10px; background-color:rgb(253, 247, 247); color:rgb(4, 46, 94); padding: 12px; line-height: 0.7;\">8. Menampilkan Tabel Penjualan\n",
    "</div>"
   ]
  },
  {
   "cell_type": "code",
   "execution_count": 73,
   "id": "2e04da4b",
   "metadata": {},
   "outputs": [
    {
     "name": "stdout",
     "output_type": "stream",
     "text": [
      "0    135\n",
      "1    240\n",
      "2    315\n",
      "3    270\n",
      "4    195\n",
      "Name: feb, dtype: int64\n"
     ]
    }
   ],
   "source": [
    "#8. menampilkan tabel penjualan februari\n",
    "df=pd.read_csv(\"penjualan.csv\")\n",
    "\n",
    "print(df[\"feb\"].head())"
   ]
  },
  {
   "cell_type": "markdown",
   "id": "b8e1bd49",
   "metadata": {},
   "source": [
    "<div style=\"font-family: Times New Roman; font-size: 20px; border-radius : 10px; background-color:rgb(253, 247, 247); color:rgb(4, 46, 94); padding: 12px; line-height: 0.7;\">9. Menampilkan lebih dari satu kolom (series)\n",
    "</div>"
   ]
  },
  {
   "cell_type": "code",
   "execution_count": 74,
   "id": "f017c5f0",
   "metadata": {},
   "outputs": [
    {
     "name": "stdout",
     "output_type": "stream",
     "text": [
      "   feb  mar\n",
      "0  135   85\n",
      "1  240  185\n",
      "2  315  285\n"
     ]
    }
   ],
   "source": [
    "# gunakan double bracket [[]]\n",
    "df=pd.read_csv(\"penjualan.csv\")\n",
    "print(df[[\"feb\", \"mar\"]].head(3))"
   ]
  },
  {
   "cell_type": "markdown",
   "id": "ec2753d5",
   "metadata": {},
   "source": [
    "<div style=\"font-family: Times New Roman; font-size: 20px; border-radius : 10px; background-color:rgb(253, 247, 247); color:rgb(4, 46, 94); padding: 12px; line-height: 0.7;\">10. Tambah Kolom Berisi Angka\n",
    "</div>"
   ]
  },
  {
   "cell_type": "code",
   "execution_count": 75,
   "id": "1cacea6c",
   "metadata": {},
   "outputs": [
    {
     "name": "stdout",
     "output_type": "stream",
     "text": [
      "['penjual no1', 'penjual no2', 'penjual no3', 'penjual no4', 'penjual no5', 'penjual no6', 'penjual no7', 'penjual no8', 'penjual no9', 'penjual no10']\n"
     ]
    }
   ],
   "source": [
    "#10.1. \n",
    "penjual=[\"penjual no\"+str(i)for i in range(1,11)]\n",
    "print(penjual)"
   ]
  },
  {
   "cell_type": "code",
   "execution_count": 76,
   "id": "04a58934",
   "metadata": {},
   "outputs": [
    {
     "name": "stdout",
     "output_type": "stream",
     "text": [
      "      nama  jan  feb  mar  apr        urutan\n",
      "0     Andi  100  135   85   75   penjual no1\n",
      "1     Budi  200  240  185  160   penjual no2\n",
      "2  Chandra  300  315  285  190   penjual no3\n",
      "3     Dudi  250  270  230  200   penjual no4\n",
      "4      Eko  150  195  110  100   penjual no5\n",
      "5    Fahri   95  130   75   45   penjual no6\n",
      "6     Gina  125  175  110   70   penjual no7\n",
      "7   Herman  130  155  100   85   penjual no8\n",
      "8   Indara  320  374  300  270   penjual no9\n",
      "9     Joni  200  220  175  155  penjual no10\n"
     ]
    }
   ],
   "source": [
    "#10.2.\n",
    "df[\"urutan\"]=penjual\n",
    "print(df)"
   ]
  },
  {
   "cell_type": "markdown",
   "id": "741f238a",
   "metadata": {},
   "source": [
    "<div style=\"font-family: Times New Roman; font-size: 20px; border-radius : 10px; background-color:rgb(253, 247, 247); color:rgb(4, 46, 94); padding: 12px; line-height: 0.7;\">11. Ektraksi Angka dari Teks\n",
    "</div>"
   ]
  },
  {
   "cell_type": "code",
   "execution_count": 77,
   "id": "4582139f",
   "metadata": {},
   "outputs": [
    {
     "name": "stdout",
     "output_type": "stream",
     "text": [
      "      nama  jan  feb  mar  apr        urutan  no\n",
      "0     Andi  100  135   85   75   penjual no1   1\n",
      "1     Budi  200  240  185  160   penjual no2   2\n",
      "2  Chandra  300  315  285  190   penjual no3   3\n",
      "3     Dudi  250  270  230  200   penjual no4   4\n",
      "4      Eko  150  195  110  100   penjual no5   5\n",
      "5    Fahri   95  130   75   45   penjual no6   6\n",
      "6     Gina  125  175  110   70   penjual no7   7\n",
      "7   Herman  130  155  100   85   penjual no8   8\n",
      "8   Indara  320  374  300  270   penjual no9   9\n",
      "9     Joni  200  220  175  155  penjual no10  10\n"
     ]
    }
   ],
   "source": [
    "df[\"no\"]=df[\"urutan\"].str.extract(r\"(\\d+)\").astype(\"int64\")\n",
    "print(df)"
   ]
  },
  {
   "cell_type": "markdown",
   "id": "cdb32dbd",
   "metadata": {},
   "source": [
    "<div style=\"font-family: Times New Roman; font-size: 20px; border-radius : 10px; background-color:rgb(253, 247, 247); color:rgb(4, 46, 94); padding: 12px; line-height: 0.7;\"> Menampilkan Data berdasarkan Baris dan Kolom\n",
    "\n",
    "\n",
    "12. Menampilkan Hanya Kolom Tertentu\n",
    "</div>"
   ]
  },
  {
   "cell_type": "code",
   "execution_count": 78,
   "id": "1d106dce",
   "metadata": {},
   "outputs": [
    {
     "name": "stdout",
     "output_type": "stream",
     "text": [
      "nama             Andi\n",
      "jan               100\n",
      "feb               135\n",
      "mar                85\n",
      "apr                75\n",
      "urutan    penjual no1\n",
      "no                  1\n",
      "Name: 0, dtype: object\n",
      "nama             Andi\n",
      "jan               100\n",
      "feb               135\n",
      "mar                85\n",
      "apr                75\n",
      "urutan    penjual no1\n",
      "no                  1\n",
      "Name: 0, dtype: object\n",
      "   nama  jan  feb  mar  apr       urutan  no\n",
      "0  Andi  100  135   85   75  penjual no1   1\n"
     ]
    }
   ],
   "source": [
    "#12.1. menampilkan baris dengan indeks berlabel 0\n",
    "print(df.loc[0])\n",
    "print(df.iloc[0])\n",
    "print(df[:1])"
   ]
  },
  {
   "cell_type": "code",
   "execution_count": 79,
   "id": "cbb11ac7",
   "metadata": {},
   "outputs": [
    {
     "name": "stdout",
     "output_type": "stream",
     "text": [
      "100\n",
      "100\n",
      "   jan\n",
      "0  100\n"
     ]
    }
   ],
   "source": [
    "#12.2. menampilkan baris indeks berlabel 0 dan kolom berlaber jan\n",
    "print(df.loc[0,\"jan\"])\n",
    "print(df.iloc[0,1])\n",
    "print(df[[\"jan\"]][:1])"
   ]
  },
  {
   "cell_type": "code",
   "execution_count": 80,
   "id": "b3db6e0d",
   "metadata": {},
   "outputs": [
    {
     "name": "stdout",
     "output_type": "stream",
     "text": [
      "      nama  jan  mar\n",
      "0     Andi  100   85\n",
      "1     Budi  200  185\n",
      "2  Chandra  300  285\n"
     ]
    }
   ],
   "source": [
    "#12.3. menampilkan baris berlabel 0 sampai 2 dan kolom nama, jan, mar\n",
    "print(df.loc[0:2, [\"nama\", \"jan\", \"mar\"]])"
   ]
  },
  {
   "cell_type": "code",
   "execution_count": 81,
   "id": "17b16c9b",
   "metadata": {},
   "outputs": [
    {
     "name": "stdout",
     "output_type": "stream",
     "text": [
      "      nama  jan  mar\n",
      "0     Andi  100   85\n",
      "1     Budi  200  185\n",
      "2  Chandra  300  285\n"
     ]
    }
   ],
   "source": [
    "#12.3. menampilkan baris 0-3, kolom 0 (nama), 1(jan), 3 (mar)\n",
    "print(df.iloc[0:3, [0,1,3]])"
   ]
  },
  {
   "cell_type": "code",
   "execution_count": 82,
   "id": "e2478623",
   "metadata": {},
   "outputs": [
    {
     "name": "stdout",
     "output_type": "stream",
     "text": [
      "      nama  apr\n",
      "0     Andi   75\n",
      "1     Budi  160\n",
      "2  Chandra  190\n",
      "3     Dudi  200\n",
      "4      Eko  100\n",
      "5    Fahri   45\n",
      "6     Gina   70\n",
      "7   Herman   85\n",
      "8   Indara  270\n",
      "9     Joni  155\n",
      "      nama  apr\n",
      "0     Andi   75\n",
      "1     Budi  160\n",
      "2  Chandra  190\n",
      "3     Dudi  200\n",
      "4      Eko  100\n",
      "5    Fahri   45\n",
      "6     Gina   70\n",
      "7   Herman   85\n",
      "8   Indara  270\n",
      "9     Joni  155\n",
      "      nama  apr\n",
      "0     Andi   75\n",
      "1     Budi  160\n",
      "2  Chandra  190\n",
      "3     Dudi  200\n",
      "4      Eko  100\n",
      "5    Fahri   45\n",
      "6     Gina   70\n",
      "7   Herman   85\n",
      "8   Indara  270\n",
      "9     Joni  155\n"
     ]
    }
   ],
   "source": [
    "#12.4 menampilkan semua baris pada kolom **nama** dan **apr**\n",
    "print(df.loc[:, [\"nama\", \"apr\"]])\n",
    "print(df.iloc[:, [0,4]])\n",
    "print(df[[\"nama\", \"apr\"]])"
   ]
  },
  {
   "cell_type": "code",
   "execution_count": 83,
   "id": "5387c5b0",
   "metadata": {},
   "outputs": [
    {
     "name": "stdout",
     "output_type": "stream",
     "text": [
      "      nama  feb\n",
      "0     Andi  135\n",
      "1     Budi  240\n",
      "2  Chandra  315\n",
      "3     Dudi  270\n",
      "4      Eko  195\n",
      "5    Fahri  130\n",
      "6     Gina  175\n",
      "7   Herman  155\n",
      "8   Indara  374\n",
      "9     Joni  220\n",
      "      nama  jan  feb\n",
      "0     Andi  100  135\n",
      "1     Budi  200  240\n",
      "2  Chandra  300  315\n",
      "3     Dudi  250  270\n",
      "4      Eko  150  195\n",
      "5    Fahri   95  130\n",
      "6     Gina  125  175\n",
      "7   Herman  130  155\n",
      "8   Indara  320  374\n",
      "9     Joni  200  220\n",
      "      nama  jan  feb\n",
      "0     Andi  100  135\n",
      "1     Budi  200  240\n",
      "2  Chandra  300  315\n",
      "3     Dudi  250  270\n",
      "4      Eko  150  195\n",
      "5    Fahri   95  130\n",
      "6     Gina  125  175\n",
      "7   Herman  130  155\n",
      "8   Indara  320  374\n",
      "9     Joni  200  220\n"
     ]
    }
   ],
   "source": [
    "#12.5. menampilkan semua baris pada kolom nama sampai feb\n",
    "print(df.loc[:, [\"nama\", \"feb\"]])\n",
    "print(df.iloc[:, :3])\n",
    "print(df[[\"nama\", \"jan\", \"feb\"]])"
   ]
  },
  {
   "cell_type": "code",
   "execution_count": 84,
   "id": "ba566dd4",
   "metadata": {},
   "outputs": [
    {
     "name": "stdout",
     "output_type": "stream",
     "text": [
      "      nama  jan  feb  mar  apr        urutan  no\n",
      "0     Andi  100  135   85   75   penjual no1   1\n",
      "1     Budi  200  240  185  160   penjual no2   2\n",
      "2  Chandra  300  315  285  190   penjual no3   3\n",
      "3     Dudi  250  270  230  200   penjual no4   4\n",
      "4      Eko  150  195  110  100   penjual no5   5\n",
      "5    Fahri   95  130   75   45   penjual no6   6\n",
      "6     Gina  125  175  110   70   penjual no7   7\n",
      "7   Herman  130  155  100   85   penjual no8   8\n",
      "8   Indara  320  374  300  270   penjual no9   9\n",
      "9     Joni  200  220  175  155  penjual no10  10\n"
     ]
    }
   ],
   "source": [
    "# menampilkan semua baris dan semua kolom\n",
    "print(df.loc[:, :])"
   ]
  },
  {
   "cell_type": "markdown",
   "id": "a3865c9e",
   "metadata": {},
   "source": [
    "<div style=\"font-family: Times New Roman; font-size: 20px; border-radius : 10px; background-color:rgb(253, 247, 247); color:rgb(4, 46, 94); padding: 12px; line-height: 0.7;\">Memfilter Data\n",
    "</div>"
   ]
  },
  {
   "cell_type": "markdown",
   "id": "2c7858e7",
   "metadata": {},
   "source": [
    "<div style=\"font-family: Times New Roman; font-size: 20px; border-radius : 10px; background-color:rgb(253, 247, 247); color:rgb(4, 46, 94); padding: 12px; line-height: 0.7;\">13. Memilih Berdasarkan Satu Kondisi\n",
    "</div>"
   ]
  },
  {
   "cell_type": "code",
   "execution_count": 85,
   "id": "84bb7785",
   "metadata": {},
   "outputs": [],
   "source": [
    "import re"
   ]
  },
  {
   "cell_type": "code",
   "execution_count": 86,
   "id": "cbba1a51",
   "metadata": {},
   "outputs": [
    {
     "name": "stdout",
     "output_type": "stream",
     "text": [
      "   nama  jan  feb  mar  apr        urutan  no\n",
      "1  Budi  200  240  185  160   penjual no2   2\n",
      "9  Joni  200  220  175  155  penjual no10  10\n"
     ]
    },
    {
     "data": {
      "text/html": [
       "<div>\n",
       "<style scoped>\n",
       "    .dataframe tbody tr th:only-of-type {\n",
       "        vertical-align: middle;\n",
       "    }\n",
       "\n",
       "    .dataframe tbody tr th {\n",
       "        vertical-align: top;\n",
       "    }\n",
       "\n",
       "    .dataframe thead th {\n",
       "        text-align: right;\n",
       "    }\n",
       "</style>\n",
       "<table border=\"1\" class=\"dataframe\">\n",
       "  <thead>\n",
       "    <tr style=\"text-align: right;\">\n",
       "      <th></th>\n",
       "      <th>nama</th>\n",
       "      <th>jan</th>\n",
       "      <th>feb</th>\n",
       "      <th>mar</th>\n",
       "      <th>apr</th>\n",
       "      <th>urutan</th>\n",
       "      <th>no</th>\n",
       "    </tr>\n",
       "  </thead>\n",
       "  <tbody>\n",
       "    <tr>\n",
       "      <th>1</th>\n",
       "      <td>Budi</td>\n",
       "      <td>200</td>\n",
       "      <td>240</td>\n",
       "      <td>185</td>\n",
       "      <td>160</td>\n",
       "      <td>penjual no2</td>\n",
       "      <td>2</td>\n",
       "    </tr>\n",
       "    <tr>\n",
       "      <th>9</th>\n",
       "      <td>Joni</td>\n",
       "      <td>200</td>\n",
       "      <td>220</td>\n",
       "      <td>175</td>\n",
       "      <td>155</td>\n",
       "      <td>penjual no10</td>\n",
       "      <td>10</td>\n",
       "    </tr>\n",
       "  </tbody>\n",
       "</table>\n",
       "</div>"
      ],
      "text/plain": [
       "   nama  jan  feb  mar  apr        urutan  no\n",
       "1  Budi  200  240  185  160   penjual no2   2\n",
       "9  Joni  200  220  175  155  penjual no10  10"
      ]
     },
     "execution_count": 86,
     "metadata": {},
     "output_type": "execute_result"
    }
   ],
   "source": [
    "#13.1. memilih angka \n",
    "# sama dengan\n",
    "print(df[df[\"jan\"]==200])\n",
    "df[df.jan.eq(200)]"
   ]
  },
  {
   "cell_type": "code",
   "execution_count": 87,
   "id": "ad90070a",
   "metadata": {},
   "outputs": [
    {
     "name": "stdout",
     "output_type": "stream",
     "text": [
      "      nama  jan  feb  mar  apr       urutan  no\n",
      "0     Andi  100  135   85   75  penjual no1   1\n",
      "2  Chandra  300  315  285  190  penjual no3   3\n",
      "3     Dudi  250  270  230  200  penjual no4   4\n",
      "4      Eko  150  195  110  100  penjual no5   5\n",
      "5    Fahri   95  130   75   45  penjual no6   6\n",
      "6     Gina  125  175  110   70  penjual no7   7\n",
      "7   Herman  130  155  100   85  penjual no8   8\n",
      "8   Indara  320  374  300  270  penjual no9   9\n",
      "      nama  jan  feb  mar  apr        urutan  no\n",
      "0     Andi  100  135   85   75   penjual no1   1\n",
      "1     Budi  200  240  185  160   penjual no2   2\n",
      "2  Chandra  300  315  285  190   penjual no3   3\n",
      "3     Dudi  250  270  230  200   penjual no4   4\n",
      "4      Eko  150  195  110  100   penjual no5   5\n",
      "5    Fahri   95  130   75   45   penjual no6   6\n",
      "6     Gina  125  175  110   70   penjual no7   7\n",
      "7   Herman  130  155  100   85   penjual no8   8\n",
      "8   Indara  320  374  300  270   penjual no9   9\n",
      "9     Joni  200  220  175  155  penjual no10  10\n"
     ]
    }
   ],
   "source": [
    "# tidak sama dengan\n",
    "print(df[df[\"jan\"]!=200])\n",
    "df[df.jan.ne(200)]\n",
    "print(df[~(df[\"jan\"]==20)])"
   ]
  },
  {
   "cell_type": "code",
   "execution_count": 88,
   "id": "33405ec8",
   "metadata": {},
   "outputs": [
    {
     "name": "stdout",
     "output_type": "stream",
     "text": [
      "      nama  jan  feb  mar  apr       urutan  no\n",
      "2  Chandra  300  315  285  190  penjual no3   3\n",
      "3     Dudi  250  270  230  200  penjual no4   4\n",
      "8   Indara  320  374  300  270  penjual no9   9\n"
     ]
    },
    {
     "data": {
      "text/html": [
       "<div>\n",
       "<style scoped>\n",
       "    .dataframe tbody tr th:only-of-type {\n",
       "        vertical-align: middle;\n",
       "    }\n",
       "\n",
       "    .dataframe tbody tr th {\n",
       "        vertical-align: top;\n",
       "    }\n",
       "\n",
       "    .dataframe thead th {\n",
       "        text-align: right;\n",
       "    }\n",
       "</style>\n",
       "<table border=\"1\" class=\"dataframe\">\n",
       "  <thead>\n",
       "    <tr style=\"text-align: right;\">\n",
       "      <th></th>\n",
       "      <th>nama</th>\n",
       "      <th>jan</th>\n",
       "      <th>feb</th>\n",
       "      <th>mar</th>\n",
       "      <th>apr</th>\n",
       "      <th>urutan</th>\n",
       "      <th>no</th>\n",
       "    </tr>\n",
       "  </thead>\n",
       "  <tbody>\n",
       "    <tr>\n",
       "      <th>2</th>\n",
       "      <td>Chandra</td>\n",
       "      <td>300</td>\n",
       "      <td>315</td>\n",
       "      <td>285</td>\n",
       "      <td>190</td>\n",
       "      <td>penjual no3</td>\n",
       "      <td>3</td>\n",
       "    </tr>\n",
       "    <tr>\n",
       "      <th>3</th>\n",
       "      <td>Dudi</td>\n",
       "      <td>250</td>\n",
       "      <td>270</td>\n",
       "      <td>230</td>\n",
       "      <td>200</td>\n",
       "      <td>penjual no4</td>\n",
       "      <td>4</td>\n",
       "    </tr>\n",
       "    <tr>\n",
       "      <th>8</th>\n",
       "      <td>Indara</td>\n",
       "      <td>320</td>\n",
       "      <td>374</td>\n",
       "      <td>300</td>\n",
       "      <td>270</td>\n",
       "      <td>penjual no9</td>\n",
       "      <td>9</td>\n",
       "    </tr>\n",
       "  </tbody>\n",
       "</table>\n",
       "</div>"
      ],
      "text/plain": [
       "      nama  jan  feb  mar  apr       urutan  no\n",
       "2  Chandra  300  315  285  190  penjual no3   3\n",
       "3     Dudi  250  270  230  200  penjual no4   4\n",
       "8   Indara  320  374  300  270  penjual no9   9"
      ]
     },
     "execution_count": 88,
     "metadata": {},
     "output_type": "execute_result"
    }
   ],
   "source": [
    "# angka lebih dari\n",
    "print(df[df[\"jan\"]>200])\n",
    "df[df.jan.gt(200)]"
   ]
  },
  {
   "cell_type": "code",
   "execution_count": 89,
   "id": "fdcddc76",
   "metadata": {},
   "outputs": [
    {
     "name": "stdout",
     "output_type": "stream",
     "text": [
      "      nama  jan  feb  mar  apr        urutan  no\n",
      "1     Budi  200  240  185  160   penjual no2   2\n",
      "2  Chandra  300  315  285  190   penjual no3   3\n",
      "3     Dudi  250  270  230  200   penjual no4   4\n",
      "8   Indara  320  374  300  270   penjual no9   9\n",
      "9     Joni  200  220  175  155  penjual no10  10\n"
     ]
    },
    {
     "data": {
      "text/html": [
       "<div>\n",
       "<style scoped>\n",
       "    .dataframe tbody tr th:only-of-type {\n",
       "        vertical-align: middle;\n",
       "    }\n",
       "\n",
       "    .dataframe tbody tr th {\n",
       "        vertical-align: top;\n",
       "    }\n",
       "\n",
       "    .dataframe thead th {\n",
       "        text-align: right;\n",
       "    }\n",
       "</style>\n",
       "<table border=\"1\" class=\"dataframe\">\n",
       "  <thead>\n",
       "    <tr style=\"text-align: right;\">\n",
       "      <th></th>\n",
       "      <th>nama</th>\n",
       "      <th>jan</th>\n",
       "      <th>feb</th>\n",
       "      <th>mar</th>\n",
       "      <th>apr</th>\n",
       "      <th>urutan</th>\n",
       "      <th>no</th>\n",
       "    </tr>\n",
       "  </thead>\n",
       "  <tbody>\n",
       "    <tr>\n",
       "      <th>1</th>\n",
       "      <td>Budi</td>\n",
       "      <td>200</td>\n",
       "      <td>240</td>\n",
       "      <td>185</td>\n",
       "      <td>160</td>\n",
       "      <td>penjual no2</td>\n",
       "      <td>2</td>\n",
       "    </tr>\n",
       "    <tr>\n",
       "      <th>2</th>\n",
       "      <td>Chandra</td>\n",
       "      <td>300</td>\n",
       "      <td>315</td>\n",
       "      <td>285</td>\n",
       "      <td>190</td>\n",
       "      <td>penjual no3</td>\n",
       "      <td>3</td>\n",
       "    </tr>\n",
       "    <tr>\n",
       "      <th>3</th>\n",
       "      <td>Dudi</td>\n",
       "      <td>250</td>\n",
       "      <td>270</td>\n",
       "      <td>230</td>\n",
       "      <td>200</td>\n",
       "      <td>penjual no4</td>\n",
       "      <td>4</td>\n",
       "    </tr>\n",
       "    <tr>\n",
       "      <th>8</th>\n",
       "      <td>Indara</td>\n",
       "      <td>320</td>\n",
       "      <td>374</td>\n",
       "      <td>300</td>\n",
       "      <td>270</td>\n",
       "      <td>penjual no9</td>\n",
       "      <td>9</td>\n",
       "    </tr>\n",
       "    <tr>\n",
       "      <th>9</th>\n",
       "      <td>Joni</td>\n",
       "      <td>200</td>\n",
       "      <td>220</td>\n",
       "      <td>175</td>\n",
       "      <td>155</td>\n",
       "      <td>penjual no10</td>\n",
       "      <td>10</td>\n",
       "    </tr>\n",
       "  </tbody>\n",
       "</table>\n",
       "</div>"
      ],
      "text/plain": [
       "      nama  jan  feb  mar  apr        urutan  no\n",
       "1     Budi  200  240  185  160   penjual no2   2\n",
       "2  Chandra  300  315  285  190   penjual no3   3\n",
       "3     Dudi  250  270  230  200   penjual no4   4\n",
       "8   Indara  320  374  300  270   penjual no9   9\n",
       "9     Joni  200  220  175  155  penjual no10  10"
      ]
     },
     "execution_count": 89,
     "metadata": {},
     "output_type": "execute_result"
    }
   ],
   "source": [
    "# lebih dari satu atau sama dengan\n",
    "print(df[df[\"jan\"]>=200])\n",
    "df[df.jan.ge(200)]"
   ]
  },
  {
   "cell_type": "code",
   "execution_count": 90,
   "id": "37ac37bf",
   "metadata": {},
   "outputs": [
    {
     "name": "stdout",
     "output_type": "stream",
     "text": [
      "     nama  jan  feb  mar  apr       urutan  no\n",
      "0    Andi  100  135   85   75  penjual no1   1\n",
      "4     Eko  150  195  110  100  penjual no5   5\n",
      "5   Fahri   95  130   75   45  penjual no6   6\n",
      "6    Gina  125  175  110   70  penjual no7   7\n",
      "7  Herman  130  155  100   85  penjual no8   8\n"
     ]
    },
    {
     "data": {
      "text/html": [
       "<div>\n",
       "<style scoped>\n",
       "    .dataframe tbody tr th:only-of-type {\n",
       "        vertical-align: middle;\n",
       "    }\n",
       "\n",
       "    .dataframe tbody tr th {\n",
       "        vertical-align: top;\n",
       "    }\n",
       "\n",
       "    .dataframe thead th {\n",
       "        text-align: right;\n",
       "    }\n",
       "</style>\n",
       "<table border=\"1\" class=\"dataframe\">\n",
       "  <thead>\n",
       "    <tr style=\"text-align: right;\">\n",
       "      <th></th>\n",
       "      <th>nama</th>\n",
       "      <th>jan</th>\n",
       "      <th>feb</th>\n",
       "      <th>mar</th>\n",
       "      <th>apr</th>\n",
       "      <th>urutan</th>\n",
       "      <th>no</th>\n",
       "    </tr>\n",
       "  </thead>\n",
       "  <tbody>\n",
       "    <tr>\n",
       "      <th>0</th>\n",
       "      <td>Andi</td>\n",
       "      <td>100</td>\n",
       "      <td>135</td>\n",
       "      <td>85</td>\n",
       "      <td>75</td>\n",
       "      <td>penjual no1</td>\n",
       "      <td>1</td>\n",
       "    </tr>\n",
       "    <tr>\n",
       "      <th>4</th>\n",
       "      <td>Eko</td>\n",
       "      <td>150</td>\n",
       "      <td>195</td>\n",
       "      <td>110</td>\n",
       "      <td>100</td>\n",
       "      <td>penjual no5</td>\n",
       "      <td>5</td>\n",
       "    </tr>\n",
       "    <tr>\n",
       "      <th>5</th>\n",
       "      <td>Fahri</td>\n",
       "      <td>95</td>\n",
       "      <td>130</td>\n",
       "      <td>75</td>\n",
       "      <td>45</td>\n",
       "      <td>penjual no6</td>\n",
       "      <td>6</td>\n",
       "    </tr>\n",
       "    <tr>\n",
       "      <th>6</th>\n",
       "      <td>Gina</td>\n",
       "      <td>125</td>\n",
       "      <td>175</td>\n",
       "      <td>110</td>\n",
       "      <td>70</td>\n",
       "      <td>penjual no7</td>\n",
       "      <td>7</td>\n",
       "    </tr>\n",
       "    <tr>\n",
       "      <th>7</th>\n",
       "      <td>Herman</td>\n",
       "      <td>130</td>\n",
       "      <td>155</td>\n",
       "      <td>100</td>\n",
       "      <td>85</td>\n",
       "      <td>penjual no8</td>\n",
       "      <td>8</td>\n",
       "    </tr>\n",
       "  </tbody>\n",
       "</table>\n",
       "</div>"
      ],
      "text/plain": [
       "     nama  jan  feb  mar  apr       urutan  no\n",
       "0    Andi  100  135   85   75  penjual no1   1\n",
       "4     Eko  150  195  110  100  penjual no5   5\n",
       "5   Fahri   95  130   75   45  penjual no6   6\n",
       "6    Gina  125  175  110   70  penjual no7   7\n",
       "7  Herman  130  155  100   85  penjual no8   8"
      ]
     },
     "execution_count": 90,
     "metadata": {},
     "output_type": "execute_result"
    }
   ],
   "source": [
    "# kurang dari\n",
    "print(df[df[\"jan\"]<200])\n",
    "df[df.jan.lt(200)]"
   ]
  },
  {
   "cell_type": "code",
   "execution_count": 91,
   "id": "e3d26be0",
   "metadata": {},
   "outputs": [
    {
     "name": "stdout",
     "output_type": "stream",
     "text": [
      "     nama  jan  feb  mar  apr        urutan  no\n",
      "0    Andi  100  135   85   75   penjual no1   1\n",
      "1    Budi  200  240  185  160   penjual no2   2\n",
      "4     Eko  150  195  110  100   penjual no5   5\n",
      "5   Fahri   95  130   75   45   penjual no6   6\n",
      "6    Gina  125  175  110   70   penjual no7   7\n",
      "7  Herman  130  155  100   85   penjual no8   8\n",
      "9    Joni  200  220  175  155  penjual no10  10\n"
     ]
    },
    {
     "data": {
      "text/html": [
       "<div>\n",
       "<style scoped>\n",
       "    .dataframe tbody tr th:only-of-type {\n",
       "        vertical-align: middle;\n",
       "    }\n",
       "\n",
       "    .dataframe tbody tr th {\n",
       "        vertical-align: top;\n",
       "    }\n",
       "\n",
       "    .dataframe thead th {\n",
       "        text-align: right;\n",
       "    }\n",
       "</style>\n",
       "<table border=\"1\" class=\"dataframe\">\n",
       "  <thead>\n",
       "    <tr style=\"text-align: right;\">\n",
       "      <th></th>\n",
       "      <th>nama</th>\n",
       "      <th>jan</th>\n",
       "      <th>feb</th>\n",
       "      <th>mar</th>\n",
       "      <th>apr</th>\n",
       "      <th>urutan</th>\n",
       "      <th>no</th>\n",
       "    </tr>\n",
       "  </thead>\n",
       "  <tbody>\n",
       "    <tr>\n",
       "      <th>0</th>\n",
       "      <td>Andi</td>\n",
       "      <td>100</td>\n",
       "      <td>135</td>\n",
       "      <td>85</td>\n",
       "      <td>75</td>\n",
       "      <td>penjual no1</td>\n",
       "      <td>1</td>\n",
       "    </tr>\n",
       "    <tr>\n",
       "      <th>1</th>\n",
       "      <td>Budi</td>\n",
       "      <td>200</td>\n",
       "      <td>240</td>\n",
       "      <td>185</td>\n",
       "      <td>160</td>\n",
       "      <td>penjual no2</td>\n",
       "      <td>2</td>\n",
       "    </tr>\n",
       "    <tr>\n",
       "      <th>4</th>\n",
       "      <td>Eko</td>\n",
       "      <td>150</td>\n",
       "      <td>195</td>\n",
       "      <td>110</td>\n",
       "      <td>100</td>\n",
       "      <td>penjual no5</td>\n",
       "      <td>5</td>\n",
       "    </tr>\n",
       "    <tr>\n",
       "      <th>5</th>\n",
       "      <td>Fahri</td>\n",
       "      <td>95</td>\n",
       "      <td>130</td>\n",
       "      <td>75</td>\n",
       "      <td>45</td>\n",
       "      <td>penjual no6</td>\n",
       "      <td>6</td>\n",
       "    </tr>\n",
       "    <tr>\n",
       "      <th>6</th>\n",
       "      <td>Gina</td>\n",
       "      <td>125</td>\n",
       "      <td>175</td>\n",
       "      <td>110</td>\n",
       "      <td>70</td>\n",
       "      <td>penjual no7</td>\n",
       "      <td>7</td>\n",
       "    </tr>\n",
       "    <tr>\n",
       "      <th>7</th>\n",
       "      <td>Herman</td>\n",
       "      <td>130</td>\n",
       "      <td>155</td>\n",
       "      <td>100</td>\n",
       "      <td>85</td>\n",
       "      <td>penjual no8</td>\n",
       "      <td>8</td>\n",
       "    </tr>\n",
       "    <tr>\n",
       "      <th>9</th>\n",
       "      <td>Joni</td>\n",
       "      <td>200</td>\n",
       "      <td>220</td>\n",
       "      <td>175</td>\n",
       "      <td>155</td>\n",
       "      <td>penjual no10</td>\n",
       "      <td>10</td>\n",
       "    </tr>\n",
       "  </tbody>\n",
       "</table>\n",
       "</div>"
      ],
      "text/plain": [
       "     nama  jan  feb  mar  apr        urutan  no\n",
       "0    Andi  100  135   85   75   penjual no1   1\n",
       "1    Budi  200  240  185  160   penjual no2   2\n",
       "4     Eko  150  195  110  100   penjual no5   5\n",
       "5   Fahri   95  130   75   45   penjual no6   6\n",
       "6    Gina  125  175  110   70   penjual no7   7\n",
       "7  Herman  130  155  100   85   penjual no8   8\n",
       "9    Joni  200  220  175  155  penjual no10  10"
      ]
     },
     "execution_count": 91,
     "metadata": {},
     "output_type": "execute_result"
    }
   ],
   "source": [
    "# kurang dari atau sama dengan\n",
    "print(df[df[\"jan\"]<=200])\n",
    "df[df.jan.le(200)]"
   ]
  },
  {
   "cell_type": "code",
   "execution_count": 92,
   "id": "811f5f24",
   "metadata": {},
   "outputs": [
    {
     "name": "stdout",
     "output_type": "stream",
     "text": [
      "Empty DataFrame\n",
      "Columns: [nama, jan, feb, mar, apr, urutan, no]\n",
      "Index: []\n",
      "Empty DataFrame\n",
      "Columns: [nama, jan, feb, mar, apr, urutan, no]\n",
      "Index: []\n"
     ]
    }
   ],
   "source": [
    "#13.2. memilih teks\n",
    "print(df[df[\"nama\"].str.contains(\"andi\")])\n",
    "print(df[df[\"nama\"].str.contains(\"jul\")])"
   ]
  },
  {
   "cell_type": "code",
   "execution_count": 93,
   "id": "2cff8fbc",
   "metadata": {},
   "outputs": [
    {
     "data": {
      "text/html": [
       "<div>\n",
       "<style scoped>\n",
       "    .dataframe tbody tr th:only-of-type {\n",
       "        vertical-align: middle;\n",
       "    }\n",
       "\n",
       "    .dataframe tbody tr th {\n",
       "        vertical-align: top;\n",
       "    }\n",
       "\n",
       "    .dataframe thead th {\n",
       "        text-align: right;\n",
       "    }\n",
       "</style>\n",
       "<table border=\"1\" class=\"dataframe\">\n",
       "  <thead>\n",
       "    <tr style=\"text-align: right;\">\n",
       "      <th></th>\n",
       "      <th>nama</th>\n",
       "      <th>jan</th>\n",
       "      <th>feb</th>\n",
       "      <th>mar</th>\n",
       "      <th>apr</th>\n",
       "      <th>urutan</th>\n",
       "      <th>no</th>\n",
       "    </tr>\n",
       "  </thead>\n",
       "  <tbody>\n",
       "    <tr>\n",
       "      <th>6</th>\n",
       "      <td>Gina</td>\n",
       "      <td>125</td>\n",
       "      <td>175</td>\n",
       "      <td>110</td>\n",
       "      <td>70</td>\n",
       "      <td>penjual no7</td>\n",
       "      <td>7</td>\n",
       "    </tr>\n",
       "  </tbody>\n",
       "</table>\n",
       "</div>"
      ],
      "text/plain": [
       "   nama  jan  feb  mar  apr       urutan  no\n",
       "6  Gina  125  175  110   70  penjual no7   7"
      ]
     },
     "execution_count": 93,
     "metadata": {},
     "output_type": "execute_result"
    }
   ],
   "source": [
    "# abaikan huruf kecil\n",
    "df[df[\"nama\"].str.contains(\"in\")]"
   ]
  },
  {
   "cell_type": "code",
   "execution_count": 94,
   "id": "19442f38",
   "metadata": {},
   "outputs": [
    {
     "name": "stdout",
     "output_type": "stream",
     "text": [
      "     nama  jan  feb  mar  apr       urutan  no\n",
      "6    Gina  125  175  110   70  penjual no7   7\n",
      "8  Indara  320  374  300  270  penjual no9   9\n"
     ]
    }
   ],
   "source": [
    "print(df[df[\"nama\"].str.contains(\"in\",flags=re.IGNORECASE)])"
   ]
  },
  {
   "cell_type": "code",
   "execution_count": 95,
   "id": "e6069594",
   "metadata": {},
   "outputs": [
    {
     "name": "stdout",
     "output_type": "stream",
     "text": [
      "    nama  jan  feb  mar  apr        urutan  no\n",
      "5  Fahri   95  130   75   45   penjual no6   6\n",
      "9   Joni  200  220  175  155  penjual no10  10\n"
     ]
    }
   ],
   "source": [
    "# memilih data yang berada di list atau dataframe lain\n",
    "# menampilka kolom februari pada file\n",
    "feb_penjualan=[130,220]\n",
    "print(df[df[\"feb\"].isin(feb_penjualan)])"
   ]
  },
  {
   "cell_type": "markdown",
   "id": "4d17df4f",
   "metadata": {},
   "source": [
    "<div style=\"font-family: Times New Roman; font-size: 20px; border-radius : 10px; background-color:rgb(253, 247, 247); color:rgb(4, 46, 94); padding: 12px; line-height: 0.7;\">14. Membuat Kategori Tinggi dan Rendah\n",
    "</div>"
   ]
  },
  {
   "cell_type": "code",
   "execution_count": 96,
   "id": "4324e21a",
   "metadata": {},
   "outputs": [
    {
     "name": "stdout",
     "output_type": "stream",
     "text": [
      "   tinggi  rendah\n",
      "0     320      95\n",
      "1     300     100\n"
     ]
    }
   ],
   "source": [
    "d={\"tinggi\":[320,300],\"rendah\":[95,100]}\n",
    "df1=pd.DataFrame(data=d)\n",
    "print(df1)"
   ]
  },
  {
   "cell_type": "code",
   "execution_count": 97,
   "id": "f273ceb2",
   "metadata": {},
   "outputs": [
    {
     "name": "stdout",
     "output_type": "stream",
     "text": [
      "      nama  jan  feb  mar  apr       urutan  no\n",
      "2  Chandra  300  315  285  190  penjual no3   3\n",
      "8   Indara  320  374  300  270  penjual no9   9\n",
      "    nama  jan  feb  mar  apr       urutan  no\n",
      "0   Andi  100  135   85   75  penjual no1   1\n",
      "5  Fahri   95  130   75   45  penjual no6   6\n"
     ]
    }
   ],
   "source": [
    "print(df[df[\"jan\"].isin(df1[\"tinggi\"])])\n",
    "print(df[df[\"jan\"].isin(df1[\"rendah\"])])"
   ]
  },
  {
   "cell_type": "code",
   "execution_count": 98,
   "id": "ddfce0fc",
   "metadata": {},
   "outputs": [
    {
     "name": "stdout",
     "output_type": "stream",
     "text": [
      "     nama  jan  feb  mar  apr        urutan  no\n",
      "1    Budi  200  240  185  160   penjual no2   2\n",
      "3    Dudi  250  270  230  200   penjual no4   4\n",
      "4     Eko  150  195  110  100   penjual no5   5\n",
      "6    Gina  125  175  110   70   penjual no7   7\n",
      "7  Herman  130  155  100   85   penjual no8   8\n",
      "9    Joni  200  220  175  155  penjual no10  10\n"
     ]
    }
   ],
   "source": [
    "#memilih lebih dari satu kondisi\n",
    "# memilih diantara dua rentang nilai\n",
    "print(df[(df[\"jan\"]>100)&(df[\"jan\"]<300)])"
   ]
  },
  {
   "cell_type": "code",
   "execution_count": 99,
   "id": "ea00d194",
   "metadata": {},
   "outputs": [
    {
     "name": "stdout",
     "output_type": "stream",
     "text": [
      "      nama  jan  feb  mar  apr        urutan  no\n",
      "2  Chandra  300  315  285  190   penjual no3   3\n",
      "3     Dudi  250  270  230  200   penjual no4   4\n",
      "8   Indara  320  374  300  270   penjual no9   9\n",
      "9     Joni  200  220  175  155  penjual no10  10\n",
      "             jan         feb         mar         apr        no\n",
      "count   10.00000   10.000000   10.000000   10.000000  10.00000\n",
      "mean   187.00000  220.900000  165.500000  135.000000   5.50000\n",
      "std     81.14459   80.161573   83.081285   71.608504   3.02765\n",
      "min     95.00000  130.000000   75.000000   45.000000   1.00000\n",
      "25%    126.25000  160.000000  102.500000   77.500000   3.25000\n",
      "50%    175.00000  207.500000  142.500000  127.500000   5.50000\n",
      "75%    237.50000  262.500000  218.750000  182.500000   7.75000\n",
      "max    320.00000  374.000000  300.000000  270.000000  10.00000\n"
     ]
    }
   ],
   "source": [
    "print(df[(df[\"nama\"].str.contains(\"on\",flags=re.IGNORECASE))|(df[\"jan\"]>200)])\n",
    "print(df.describe())"
   ]
  },
  {
   "cell_type": "code",
   "execution_count": 100,
   "id": "4f03b177",
   "metadata": {},
   "outputs": [
    {
     "data": {
      "text/plain": [
       "<Axes: title={'center': 'Distribusi Penjualan Januari'}, ylabel='jan'>"
      ]
     },
     "execution_count": 100,
     "metadata": {},
     "output_type": "execute_result"
    },
    {
     "data": {
      "image/png": "[encoded data removed]",
      "text/plain": [
       "<Figure size 640x480 with 1 Axes>"
      ]
     },
     "metadata": {},
     "output_type": "display_data"
    }
   ],
   "source": [
    "import pandas as pd\n",
    "import numpy as np\n",
    "\n",
    "# Data\n",
    "data = {\n",
    "    \"nama\": [\"Andi\",\"Budi\",\"Chandra\",\"Dudi\",\"Eko\",\"Fahri\",\"Gina\",\"Herman\",\"Indara\",\"Joni\"],\n",
    "    \"jan\": [100,200,300,250,150,95,125,130,320,200],\n",
    "    \"feb\": [135,240,315,270,195,130,175,155,374,220],\n",
    "    \"mar\": [85,185,285,230,110,75,110,100,300,175],\n",
    "    \"apr\": [75,160,190,200,100,45,70,85,270,155]\n",
    "}\n",
    "df = pd.DataFrame(data)\n",
    "\n",
    "# plot langsung dari pandas (pakai matplotlib di belakang)\n",
    "df.set_index(\"nama\")[\"jan\"].plot(kind=\"pie\", autopct=\"%1.1f%%\", title=\"Distribusi Penjualan Januari\")"
   ]
  },
  {
   "cell_type": "markdown",
   "id": "bf958c30",
   "metadata": {},
   "source": [
    "<div style=\"font-family: Times New Roman; font-size: 20px; border-radius : 10px; background-color:rgb(253, 247, 247); color:rgb(4, 46, 94); padding: 12px; line-height: 0.7;\">15. Metode Metode Pandas\n",
    "</div>"
   ]
  },
  {
   "cell_type": "code",
   "execution_count": 101,
   "id": "5d21140b",
   "metadata": {
    "lines_to_next_cell": 1
   },
   "outputs": [
    {
     "name": "stdout",
     "output_type": "stream",
     "text": [
      "0     kecil\n",
      "1     kecil\n",
      "2    sedang\n",
      "3    sedang\n",
      "4    sedang\n",
      "5     besar\n",
      "6     besar\n",
      "dtype: object\n"
     ]
    }
   ],
   "source": [
    "# metode apply untuk menjalankan fungsi pada setiap baris pada data series\n",
    "data=[1,2,3,5,8,13,21]\n",
    "d_int=pd.Series(data)\n",
    "def kecilbesar(num):\n",
    "    if num <3:\n",
    "        return \"kecil\"    \n",
    "    elif num >=3 and num <13:\n",
    "        return \"sedang\"\n",
    "    else:\n",
    "        return \"besar\"\n",
    "\n",
    "print(d_int.apply(kecilbesar))"
   ]
  },
  {
   "cell_type": "markdown",
   "id": "d7706d8e",
   "metadata": {},
   "source": [
    "<div style=\"font-family: Times New Roman; font-size: 20px; border-radius : 10px; background-color:rgb(253, 247, 247); color:rgb(4, 46, 94); padding: 12px; line-height: 0.7;\">Info DataFrame\n",
    "</div>"
   ]
  },
  {
   "cell_type": "code",
   "execution_count": 102,
   "id": "7d77cbae",
   "metadata": {},
   "outputs": [
    {
     "name": "stdout",
     "output_type": "stream",
     "text": [
      "<class 'pandas.core.frame.DataFrame'>\n",
      "RangeIndex: 10 entries, 0 to 9\n",
      "Data columns (total 5 columns):\n",
      " #   Column  Non-Null Count  Dtype \n",
      "---  ------  --------------  ----- \n",
      " 0   nama    10 non-null     object\n",
      " 1   jan     10 non-null     int64 \n",
      " 2   feb     10 non-null     int64 \n",
      " 3   mar     10 non-null     int64 \n",
      " 4   apr     10 non-null     int64 \n",
      "dtypes: int64(4), object(1)\n",
      "memory usage: 532.0+ bytes\n",
      "None\n"
     ]
    }
   ],
   "source": [
    "print(df.info())"
   ]
  }
 ],
 "metadata": {
  "jupytext": {
   "cell_metadata_filter": "-all",
   "main_language": "python",
   "notebook_metadata_filter": "-all"
  },
  "kernelspec": {
   "display_name": "Python 3",
   "language": "python",
   "name": "python3"
  },
  "language_info": {
   "codemirror_mode": {
    "name": "ipython",
    "version": 3
   },
   "file_extension": ".py",
   "mimetype": "text/x-python",
   "name": "python",
   "nbconvert_exporter": "python",
   "pygments_lexer": "ipython3",
   "version": "3.13.7"
  }
 },
 "nbformat": 4,
 "nbformat_minor": 5
}
